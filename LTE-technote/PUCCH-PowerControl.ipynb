{
 "cells": [
  {
   "cell_type": "markdown",
   "metadata": {},
   "source": [
    "# PUCCH的功率控制"
   ]
  },
  {
   "cell_type": "markdown",
   "metadata": {},
   "source": [
    "## 单个子帧的PUCCH功率\n",
    "单个子帧$i$的PUCCH功率$P_{PUCCH}$:\n",
    "$$P_{PUCCH}=min\n",
    "\\begin{cases}\n",
    "P_{CMAX,c}(i)\\,[dBm] \\\\\n",
    "P_{0\\_PUCCH}+PL_c+h(n_{CQI},n_{HARQ},n_{SR})+\\Delta_{F\\_PUCCH}(F)+\\Delta_{TxD}(F')+g(i)\\,[dBm]\n",
    "\\end{cases}\n",
    "$$"
   ]
  },
  {
   "cell_type": "markdown",
   "metadata": {},
   "source": [
    "* $P_{CMAX,c}(i)$:UE最大发射功率，在3GPP 36.101中定义  \n",
    "<img src=\"pic/UE_Power_Class.PNG\" />  "
   ]
  },
  {
   "cell_type": "markdown",
   "metadata": {},
   "source": [
    "* $P_{O\\_PUCCH}=P_{O\\_NOMINAL\\_PUCCH}+P_{O\\_UE\\_PUCCH}$,这里，$P_{O\\_NOMINAL\\_PUCCH}$和$P_{O\\_UE\\_PUCCH}$均由高层参数提供(SIB2或者RRC Connection Setup 或者 RRC Connection Reconfiguration)\n",
    "<img src=\"pic/36_331_UplinkPowerControl_PUCCH.PNG\" />  "
   ]
  },
  {
   "cell_type": "markdown",
   "metadata": {},
   "source": [
    "* $PL_c$，下行路损。  $$PL_c=referenceSignalPower-\\text{higher layer filtered RSRP}$$\n",
    "(SIB2, 参考36.331)\n",
    "<img src=\"pic/36_331_ReferenceSignalPower.PNG\" />  \n",
    "从网络中抓取的log，referenceSignalPower: 18dBm  \n",
    "        sib2\n",
    "        radioResourceConfigCommon\n",
    "        ....\n",
    "        pdsch-ConfigCommon\n",
    "            referenceSignalPower: 18dBm\n",
    "            p-b: 0\n",
    "$\\text{higher layer filtered RSRP}$ 是由$P_{O\\_NOMINAL\\_PUSCH},P_{O\\_UE\\_PUSCH}$组成，(在RRC Connection Setup 或者 RRC Connection Reconfiguration信令中给出)参考36.331\n",
    "<img src=\"pic/36_331_UplinkPowerControl.PNG\" /> "
   ]
  },
  {
   "cell_type": "markdown",
   "metadata": {},
   "source": [
    "* $\\Delta_{F\\_PUCCH}(F)$也是由高层参数提供(SIB2)\n",
    "<img src=\"pic/36_331_DeltaFList.PNG\" />  \n",
    "这里每个PUCCH format在36.211中的Table 5.4.1中定义  \n",
    "<img src=\"pic/Supported_PUCCH_formats.PNG\" />  "
   ]
  },
  {
   "cell_type": "markdown",
   "metadata": {},
   "source": [
    "* $h(n_{CQI},n_{HARQ},n_{SR})$：指的是特定PUCCH format对应的CQI比特长度，HARQ比特长度，SR比特长度  \n",
    "  * PUCCH format 1,1a,1b，$h(n_{CQI},n_{HARQ},n_{SR})=0$  \n",
    "  * PUCCH format 1b，如果配置了多个服务小区， $h(n_{CQI},n_{HARQ},n_{SR})=\\frac{(n_{HARQ}-1)}{2}$，否则 $h(n_{CQI},n_{HARQ},n_{SR})=0$   \n",
    "  * PUCCH format 2,2a,2b普通cp  \n",
    "  $h(n_{CQI},n_{HARQ},n_{SR})=\n",
    "  \\begin{cases}\n",
    "  10log_{10}(n_{CQI}/4) & \\text{if}\\,n_{CQI}\\le 4 \\\\\n",
    "  0 & \\text{otherwise}\\end{cases}$  \n",
    "  * PUCCH format 2 扩展cp  \n",
    "  $h(n_{CQI},n_{HARQ},n_{SR})=\n",
    "  \\begin{cases}\n",
    "  10log_{10}((n_{CQI}+n_{HARQ})/4) & \\text{if}\\,(n_{CQI}+n_{HARQ})\\le 4 \\\\\n",
    "  0 & \\text{otherwise}\\end{cases}$  \n",
    "  * PUCCH format 3  \n",
    "  $h(n_{CQI},n_{HARQ},n_{SR})=(n_{HARQ}+n_{SR}-1)/2$"
   ]
  },
  {
   "cell_type": "markdown",
   "metadata": {},
   "source": [
    "* $g(i)=g(i-1)+\\delta_{PUCCH}(i-1)$，意味着，$g(i)$是由4个子帧前的$g()$决定的。  \n",
    "  $\\delta_{PUCCH}$由DCI format 1A/1B/1D/1/2A/2/3携带的值决定(36.213)。\n",
    "<img src=\"pic/Mapping_of_TPC_Command_Field_in_DCIformat.PNG\" />\n",
    "  "
   ]
  }
 ],
 "metadata": {
  "kernelspec": {
   "display_name": "Python 2",
   "language": "python",
   "name": "python2"
  },
  "language_info": {
   "codemirror_mode": {
    "name": "ipython",
    "version": 2
   },
   "file_extension": ".py",
   "mimetype": "text/x-python",
   "name": "python",
   "nbconvert_exporter": "python",
   "pygments_lexer": "ipython2",
   "version": "2.7.13"
  },
  "toc": {
   "colors": {
    "hover_highlight": "#DAA520",
    "running_highlight": "#FF0000",
    "selected_highlight": "#FFD700"
   },
   "moveMenuLeft": true,
   "nav_menu": {
    "height": "48px",
    "width": "254px"
   },
   "navigate_menu": true,
   "number_sections": true,
   "sideBar": true,
   "threshold": 4,
   "toc_cell": false,
   "toc_section_display": "block",
   "toc_window_display": false
  }
 },
 "nbformat": 4,
 "nbformat_minor": 2
}
