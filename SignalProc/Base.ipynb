{
 "cells": [
  {
   "cell_type": "markdown",
   "metadata": {},
   "source": [
    "# 频率、角频率和周期的关系\n",
    "$$ \\omega = 2\\pi \\cdot f = 2\\pi /T$$\n",
    "\n",
    "$\\omega$: 单位是 $rad/s$ (弧度每秒)"
   ]
  },
  {
   "cell_type": "markdown",
   "metadata": {},
   "source": [
    "# 分贝 (dB)\n",
    "## 定义\n",
    "### (1) 功率比\n",
    "$$ 以 dB 表示的功率比 = 10log_{10}(P_2/P_1)$$\n",
    "dB， 是一个对数单位，原用于表示 功率的比值。起源于对电话线衰减的度量，即从电话线输出端与输入端信号功率的比值，因为 $1dB$ 与 $1km$ 电话线的衰减几乎相等。\n",
    "  \n",
    "### (2)电压比\n",
    "$$ 以 dB 表示的电压比 = 20log_{10}(V_2/V_1) $$\n",
    "其实该 $dB$ 值仍表示功率比，因为功率比是电压比的平方\n",
    "  \n",
    "### (3) $dBM$\n",
    "$$ 以 dB 表示的功率(dBW) = 10log_{10}(P_1) $$\n",
    "  \n",
    "### (4)  二进制数动态范围\n",
    "对于一个带符号的二进制数，如果其字长为$b+1$(1个符号位，$b$个数值位)，那么其动态范围的定义为：\n",
    "$$动态范围_{linear}=\\frac{最大正值}{最小正值}=\\frac{2^b-1}{1}=2^b-1$$\n",
    "用$dB$表示动态范围：  \n",
    "$$动态范围_{dB}=20\\cdot log_{10}(动态范围_{linear})=20\\cdot log_{10}(2^b-1)$$\n",
    "当$2^b$远大于1时：\n",
    "$$动态范围_{dB}=20\\cdot long_{10}(2^b)=20\\cdot log_{10}(2)\\cdot b=6.02\\cdot b\\,dB$$"
   ]
  },
  {
   "cell_type": "markdown",
   "metadata": {},
   "source": [
    "## 常用数值\n",
    "### 功率比与$dB$转换过程中的常用数值\n",
    "$$\n",
    "\\begin{array}{c|lcr}\n",
    "\\text{功率比} & \\text{dB} \\\\\n",
    "\\hline\n",
    "1 & 0 \\\\\n",
    "1.25 & 1 \\\\\n",
    "1.6 & 2 \\\\\n",
    "2 & 3 \\\\\n",
    "2.5 & 4 \\\\\n",
    "3.2 & 5 \\\\\n",
    "4 & 6 \\\\\n",
    "5 & 7 \\\\\n",
    "6.3 & 8 \\\\\n",
    "8 & 9 \\\\\n",
    "10 & 10 \\\\\n",
    "100 & 20 \\\\\n",
    "\\end{array}\n",
    "$$\n",
    "例子：  \n",
    "(1) 线性值2500 转为 $dB$ 值，$2500=2.5\\times 10^3$ 即$4dB+30dB=34dB$  \n",
    "(2) 42dB 转换为线性值，$42dB=2dB+40dB$，即$1.6\\times 10^4$"
   ]
  },
  {
   "cell_type": "markdown",
   "metadata": {},
   "source": [
    "# 定点"
   ]
  },
  {
   "cell_type": "markdown",
   "metadata": {},
   "source": [
    "## 定点二进制有限字长的影响\n",
    "### 模数转换器的量化误差"
   ]
  }
 ],
 "metadata": {
  "kernelspec": {
   "display_name": "Python 2",
   "language": "python",
   "name": "python2"
  },
  "language_info": {
   "codemirror_mode": {
    "name": "ipython",
    "version": 2
   },
   "file_extension": ".py",
   "mimetype": "text/x-python",
   "name": "python",
   "nbconvert_exporter": "python",
   "pygments_lexer": "ipython2",
   "version": "2.7.13"
  },
  "toc": {
   "colors": {
    "hover_highlight": "#DAA520",
    "running_highlight": "#FF0000",
    "selected_highlight": "#FFD700"
   },
   "moveMenuLeft": true,
   "nav_menu": {
    "height": "46px",
    "width": "254px"
   },
   "navigate_menu": true,
   "number_sections": true,
   "sideBar": true,
   "threshold": 4,
   "toc_cell": false,
   "toc_section_display": "block",
   "toc_window_display": false
  }
 },
 "nbformat": 4,
 "nbformat_minor": 2
}
