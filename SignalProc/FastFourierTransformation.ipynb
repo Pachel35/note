{
 "cells": [
  {
   "cell_type": "markdown",
   "metadata": {
    "collapsed": true
   },
   "source": [
    "# 快速傅里叶变换"
   ]
  },
  {
   "cell_type": "markdown",
   "metadata": {},
   "source": [
    "## DFT的矩阵表达式\n",
    "设$x=[x_0,\\cdots,x_{N-1}]^T$ 是一个(实值)$N$维向量，记为$\\omega=e^{-j2\\pi/N}$。其DFT $X(k)$的表达式为：\n",
    "$$X(k)=\\frac{1}{\\sqrt{N}}\\sum_{n=0}^{N-1}x_ne^{-j2\\pi nk/N}=\\frac{1}{\\sqrt{N}}\\sum_{n=0}^{N-1}x_n\\omega^{nk}$$\n",
    "使用矩阵表示形式：  \n",
    "$$\\left[\n",
    "  \\begin{matrix}X_0 \\\\X_1 \\\\X_2 \\\\X_3 \\\\\\vdots \\\\X_{N-1}\\end{matrix}\n",
    "  \\right]=\\frac{1}{\\sqrt{N}}\n",
    "  \\left[\n",
    "  \\begin{matrix}\n",
    "    \\omega^0 & \\omega^0 & \\omega^0 & \\cdots & \\omega^0 \\\\\n",
    "    \\omega^0 & \\omega^1 & \\omega^2 & \\cdots & \\omega^{N-1}\\\\\n",
    "    \\omega^0 & \\omega^2 & \\omega^4 & \\cdots & \\omega^{2(N-1)} \\\\\n",
    "    \\omega^0 & \\omega^3 & \\omega^6 & \\cdots & \\omega^{3(N-1)} \\\\\n",
    "    \\vdots & \\vdots & \\vdots & \\ddots  & \\vdots \\\\\n",
    "    \\omega^0 & \\omega^{N-1} & \\omega^{2(N-1)} & \\cdots & \\omega^{(N-1)^2}\\end{matrix}\n",
    "  \\right]\n",
    "  \\left[\n",
    "    \\begin{matrix}\n",
    "      x_0 \\\\x_1 \\\\x_2 \\\\x_3 \\\\\\vdots \\\\x_{N-1}\n",
    "    \\end{matrix}\n",
    "   \\right]\n",
    "    $$\n",
    "这里面的$N\\times N$矩阵叫做Fourier矩阵    \n",
    "$$F_n=\\frac{1}{\\sqrt{N}}\n",
    "\\left[\n",
    "  \\begin{matrix}\n",
    "    \\omega^0 & \\omega^0 & \\omega^0 & \\cdots & \\omega^0 \\\\\n",
    "    \\omega^0 & \\omega^1 & \\omega^2 & \\cdots & \\omega^{N-1}\\\\\n",
    "    \\omega^0 & \\omega^2 & \\omega^4 & \\cdots & \\omega^{2(N-1)} \\\\\n",
    "    \\omega^0 & \\omega^3 & \\omega^6 & \\cdots & \\omega^{3(N-1)} \\\\\n",
    "    \\vdots & \\vdots & \\vdots & \\ddots  & \\vdots \\\\\n",
    "    \\omega^0 & \\omega^{N-1} & \\omega^{2(N-1)} & \\cdots & \\omega^{(N-1)^2}\\end{matrix}\n",
    "  \\right]\n",
    "$$"
   ]
  },
  {
   "cell_type": "markdown",
   "metadata": {},
   "source": [
    "### 例1：使用Python实现DFT matrix\n",
    "说明：这里产生matrix矩阵使用了$1/\\sqrt{N}$因子，所以跟numpy内嵌的fft.fft计算出来有误差。去掉$1/\\sqrt{N}$因子就只有精度误差了。"
   ]
  },
  {
   "cell_type": "code",
   "execution_count": 4,
   "metadata": {
    "collapsed": false
   },
   "outputs": [
    {
     "name": "stdout",
     "output_type": "stream",
     "text": [
      "-4.4408920985e-16\n"
     ]
    },
    {
     "data": {
      "image/png": "[encoded data removed]",
      "text/plain": [
       "<matplotlib.figure.Figure at 0x7efc750>"
      ]
     },
     "metadata": {},
     "output_type": "display_data"
    }
   ],
   "source": [
    "from numpy import *\n",
    "from matplotlib import pyplot as plt\n",
    "\n",
    "def DFT_matrix(N=8):\n",
    "    i, j = meshgrid(arange(N), arange(N));\n",
    "    omega = exp( - 2.0 * pi * 1j / N )\n",
    "    W = power( omega, i * j ) / sqrt(N)\n",
    "    return W\n",
    "\n",
    "def funSignal(n, fs=8000.0):    \n",
    "    ts = 1/fs\n",
    "    a = sin(2*pi*1000*n*ts)\n",
    "    b = 0.5*sin(2*pi*2000*n*ts+pi*3/4)\n",
    "    return  a+b\n",
    "\n",
    "n = array([0,1,2,3,4,5,6,7],dtype=float);newfs = 8000.0;\n",
    "Xin0 = funSignal(n, newfs);\n",
    "out0 = around(dot(DFT_matrix(8),Xin0.reshape(8,1)),4);\n",
    "out1 = around(fft.fft(Xin0)/sqrt(8),4);\n",
    "print sum(abs(out0)-abs(out1))\n",
    "plt.figure(figsize=(10,4));\n",
    "plt.title('Amp0',fontsize=10);plt.stem(n,abs(out0),'--');\n",
    "plt.show()"
   ]
  },
  {
   "cell_type": "markdown",
   "metadata": {},
   "source": [
    "## 快速傅里叶变换的矩阵推导\n"
   ]
  }
 ],
 "metadata": {
  "kernelspec": {
   "display_name": "Python 2",
   "language": "python",
   "name": "python2"
  },
  "language_info": {
   "codemirror_mode": {
    "name": "ipython",
    "version": 2
   },
   "file_extension": ".py",
   "mimetype": "text/x-python",
   "name": "python",
   "nbconvert_exporter": "python",
   "pygments_lexer": "ipython2",
   "version": "2.7.13"
  },
  "toc": {
   "colors": {
    "hover_highlight": "#DAA520",
    "running_highlight": "#FF0000",
    "selected_highlight": "#FFD700"
   },
   "moveMenuLeft": true,
   "nav_menu": {
    "height": "4px",
    "width": "254px"
   },
   "navigate_menu": true,
   "number_sections": true,
   "sideBar": true,
   "threshold": 4,
   "toc_cell": false,
   "toc_section_display": "block",
   "toc_window_display": true
  }
 },
 "nbformat": 4,
 "nbformat_minor": 2
}
