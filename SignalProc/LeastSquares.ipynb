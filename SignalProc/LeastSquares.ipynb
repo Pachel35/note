{
 "cells": [
  {
   "cell_type": "markdown",
   "metadata": {},
   "source": [
    "# 最小二乘法"
   ]
  },
  {
   "cell_type": "markdown",
   "metadata": {},
   "source": [
    "## 线性回归与最小二乘法  \n",
    "  工程中许多问题，常常需要根据多个变量，来找出试验结果的函数关系的近似表达式，也就是求得自变量到到因变量之间的映射关系，叫做线性回归。"
   ]
  },
  {
   "cell_type": "markdown",
   "metadata": {},
   "source": [
    " 例1 为了测定刀具的磨损速度，设计了这么一个实验：经过一定时间(入每隔一个小时)，测量一次刀具的厚度，得到一组实验数据如下：\n",
    " $$\n",
    "\\begin{array}{c|c|c|c|c|c|c|c|c|c|lcr}\\hline\n",
    "\\text{顺序编号}i & 0 & 1 & 2 & 3 & 4 & 5 & 6 & 7 \\\\\n",
    "\\hline\n",
    "\\text{时间}t_i/h & 0 & 1 & 2 & 3 & 4 & 5 & 6 & 7 \\\\\n",
    "\\hline\n",
    "\\text{刀具厚度}y_i/mm & 27.0 & 26.8 & 26.5 & 26.3 & 26.1 & 25.7 & 25.3 & 24.8 \\\\\\hline\n",
    "\\end{array}\n",
    "$$  \n",
    "可以先在坐标系上描出上面各个点，可以可到这些实验数据的分布接近线性。于是设：  \n",
    "$$\\hat{y}=f(t)=at+b$$\n",
    "确立自变量时间$t$到因变量刀具厚度$y$的关系，其中$a,b$是待定的常数。使用$\\hat{y}$而不是$y$，是因为$\\hat{y}$与$y$存在着偏差。  \n",
    "但是，数据虽然接近线性，然而实际上并非线性。为了求出函数$f(t)$来拟合$y$，只好选一个$f(t)$使得每个点$f(t_i)$分别离$y_i$最接近。  \n",
    "假设使用这个偏差和，作为判断偏差的函数：\n",
    "$$\\sum_{i=0}^7[y_i-f(t_i)]$$  \n",
    "但是$y_i-f(t_i)$有正有负，会造成求和过程中相互抵消。于是，假设使用绝对值来做偏差函数，使得这个和的值最小就认为$f(t_i)$离$y_i$最近：\n",
    "$$\\sum_{i=0}^7|y_i-f(t_i)|=\\sum_{i=0}^7|y_i-(at_i+b)|$$  \n",
    "然而有绝对值的函数在计算过程中不方便处理，会出现两段式的函数。于是将绝对值改成平方的形式。  \n",
    "$$M=\\sum_{i=0}^7[y_i-(at_i+b)]^2$$  \n",
    "这种根据平方和作为偏差函数，以平方和最小作为条件来选择待定常数$a,b$的方法，叫做** 最小二乘法 **  \n",
    "此时就可以归结为，函数$M=M(a,b)$在哪些点$(a,b)$处，能取得最小值。联立方程：\n",
    "$$\n",
    "\\begin{cases}\n",
    "M_a(a,b)=0 \\\\\n",
    "M_b(a,b)=0\n",
    "\\end{cases}\n",
    "$$\n",
    "分别对$a,b$求偏导：  \n",
    "$$\n",
    "\\begin{cases}\n",
    "\\frac{\\displaystyle \\partial M}{\\displaystyle \\partial a}=-2\\displaystyle \\sum_{i=0}^7[y_i-(at_i+b)]t_i=0 \\\\\n",
    "\\frac{\\displaystyle \\partial M}{\\displaystyle \\partial b}=-2\\displaystyle \\sum_{i=0}^7[y_i-(at_i+b)]=0\n",
    "\\end{cases}\n",
    "$$\n",
    "亦即：\n",
    "$$\n",
    "\\begin{cases}\n",
    "\\displaystyle \\sum_{i=0}^7t_i[y_i-(at_i+b)]t_i=0 \\\\\n",
    "\\displaystyle \\sum_{i=0}^7[y_i-(at_i+b)]=0\n",
    "\\end{cases}\n",
    "$$\n",
    "将括号内各项进行整理合并，并把未知数$a,b$分离出来，可得：\n",
    "$$\\begin{align}\n",
    "& a\\sum_{i=0}^7t_i^2+b\\sum_{i=0}^7t_i=\\sum_{i=0}^7y_it_i \\\\\n",
    "& a\\sum_{i=0}^7t_i+8b=\\sum_{i=0}^7y_i\n",
    "\\end{align}$$  \n",
    "通过计算$\\displaystyle \\sum_{i=0}^7t_i,\\sum_{i=0}^7t_i^2,\\sum_{i=0}^7y_i,\\sum_{i=0}^7y_it_i$得：\n",
    "$$\\sum_{i=0}^7t_i=28,\\sum_{i=0}^7t_i^2=140,\\sum_{i=0}^7y_i=208.5,\\sum_{i=0}^7y_it_i=717.0$$\n",
    "带入求偏导后整理的方程组，得：\n",
    "$$\\begin{cases}\n",
    "140a+28b=717, \\\\\n",
    "28a+8b=208.5 .\n",
    "\\end{cases}$$\n",
    "解此方程组，得到$a=-0.3036,b=27.125$，于是可得$f(t)$\n",
    "$$\\hat{y}=f(t)=-0.3036t+27.125$$\n",
    "将实验数据代入$f(t)$，并求得$M=0.108\\,165$，$\\sqrt{M}=0.329$，此处$\\sqrt{M}$称为**均方误差**。"
   ]
  },
  {
   "cell_type": "markdown",
   "metadata": {},
   "source": [
    "## 最小二乘法误差函数代数形式\n",
    "$$S(\\beta_0,\\beta_1)=\\sum_{i=1}^n(y_i-\\beta_0-\\beta_ix_i)^2$$\n",
    "分别对$\\beta_0,\\beta_1$求偏导：\n",
    "$$\n",
    "\\begin{align}\n",
    "& \\frac{\\partial{S}}{\\partial{\\beta_0}}=-2\\sum_{i=1}^n(y_i-\\beta_0-\\beta_1x_i) \\\\\n",
    "& \\frac{\\partial{S}}{\\partial{\\beta_1}}=-2\\sum_{i=1}^nx_i(y_i-\\beta_0-\\beta_1x_i)\n",
    "\\end{align}\n",
    "$$\n",
    "另上面两个偏导数等于零，有：\n",
    "$$\\begin{align}\n",
    "& \\sum_{i=1}^ny_i=n\\hat{\\beta}_0+\\hat{\\beta}_1\\sum_{i=1}^nx_i \\\\\n",
    "& \\sum_{i=1}^nx_iy_i=\\hat{\\beta}_0\\sum_{i=1}^nx_i+\\hat{\\beta}_1\\sum_{i=1}^nx_i^2\n",
    "\\end{align}\n",
    "$$\n",
    "求解$\\hat{\\beta}_0,\\hat{\\beta}_1$，可得：\n",
    "$$\\begin{align}\n",
    "\\hat{\\beta}_0\n",
    "&=\\frac{(\\displaystyle\\sum_{i=1}^nx_i^2)(\\sum_{i=1}^ny_i)-(\\sum_{i=1}^nx_i)(\\sum_{i=1}^nx_iy_i)}\n",
    "{\\displaystyle n\\sum_{i=1}^nx_i^2-(\\sum_{i=1}^nx_i)^2} \\\\\n",
    "\\hat{\\beta}_1 \n",
    "& =\\frac{\\displaystyle n\\sum_{i=1}^nx_iy_i-(\\sum_{i=1}^nx_i)(\\sum_{i=1}^ny_i)}\n",
    "{\\displaystyle n\\sum_{i=1}^nx_i^2-(\\sum_{i=1}^nx_i)}\n",
    "\\end{align}\n",
    "$$"
   ]
  },
  {
   "cell_type": "markdown",
   "metadata": {},
   "source": [
    "## 最小二乘估计斜率和截距的统计性质\n",
    "### **定理 在标准统计模型的假设下，最小二乘估计是无偏的**\n",
    "$$E(\\hat{\\beta}_j)=\\beta_j,j=0,1$$\n",
    "证明 根据假设，$E(y_i)=\\beta_0+\\beta_1x_i$，由$\\hat{\\beta}_0$的表达式，可得：\n",
    "$$\\begin{align}\n",
    "E(\\hat{\\beta}_0) & =\\frac{(\\displaystyle\\sum_{i=1}^nx_i^2)(\\sum_{i=1}^nE(y_i))-(\\sum_{i=1}^nx_i)(\\sum_{i=1}^nx_iE(y_i))}\n",
    "{\\displaystyle n\\sum_{i=1}^nx_i^2-(\\sum_{i=1}^nx_i)^2} \\\\\n",
    "& =\\frac{(\\displaystyle\\sum_{i=1}^nx_i^2)(n\\beta_0+\\beta_1\\sum_{i=1}^nx_i)-(\\sum_{i=1}^nx_i)(\\beta_0\\sum_{i=1}^nx_i+\\beta_1\\sum_{i=1}^nx_i^2)}\n",
    "{\\displaystyle n\\sum_{i=1}^nx_i^2-(\\sum_{i=1}^nx_i)^2} \\\\\n",
    "& = \\beta_0\n",
    "\\end{align}\n",
    "$$"
   ]
  },
  {
   "cell_type": "markdown",
   "metadata": {},
   "source": [
    "### **定理 在标准统计模型的假设下**\n",
    "$$Var(\\hat\\beta_0)=\\frac{\\displaystyle\\sigma^2\\sum_{i=1}^nx_i^2}\n",
    "{\\displaystyle n\\sum_{i=1}^nx_i^2-(\\sum_{i=1}^nx_i)^2}$$\n",
    "$$\n",
    "Var(\\hat\\beta_1)=\\frac{\\displaystyle n\\sigma^2}\n",
    "{\\displaystyle n\\sum_{i=1}^nx_i^2-(\\sum_{i=1}^nx_i)^2}\n",
    "$$\n",
    "$$\n",
    "Cov(\\hat\\beta_0,\\hat\\beta_1)=\\frac{\\displaystyle -\\sigma^2\\sum_{i=1}^nx_i}\n",
    "{\\displaystyle n\\sum_{i=1}^nx_i^2-(\\sum_{i=1}^nx_i)^2}\n",
    "$$"
   ]
  },
  {
   "cell_type": "markdown",
   "metadata": {},
   "source": [
    "## 线性最小二乘的矩阵方法"
   ]
  }
 ],
 "metadata": {
  "kernelspec": {
   "display_name": "Python 2",
   "language": "python",
   "name": "python2"
  },
  "language_info": {
   "codemirror_mode": {
    "name": "ipython",
    "version": 2
   },
   "file_extension": ".py",
   "mimetype": "text/x-python",
   "name": "python",
   "nbconvert_exporter": "python",
   "pygments_lexer": "ipython2",
   "version": "2.7.13"
  },
  "toc": {
   "colors": {
    "hover_highlight": "#DAA520",
    "running_highlight": "#FF0000",
    "selected_highlight": "#FFD700"
   },
   "moveMenuLeft": true,
   "nav_menu": {
    "height": "179px",
    "width": "254px"
   },
   "navigate_menu": true,
   "number_sections": true,
   "sideBar": true,
   "threshold": 4,
   "toc_cell": false,
   "toc_section_display": "block",
   "toc_window_display": false
  }
 },
 "nbformat": 4,
 "nbformat_minor": 2
}
