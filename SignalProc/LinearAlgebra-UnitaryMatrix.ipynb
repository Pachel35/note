{
 "cells": [
  {
   "cell_type": "markdown",
   "metadata": {},
   "source": [
    "# 酉矩阵"
   ]
  },
  {
   "cell_type": "markdown",
   "metadata": {},
   "source": [
    "## 定义\n",
    "一正交矩阵(orthogonal matrix)$U$是一个方阵，并且满足\n",
    "$$U^HU=UU^H=I$$\n",
    "则称为酉矩阵(unitary matrix)  \n",
    "  \n",
    "酉矩阵有以下特点：  \n",
    "* $\\mid det(U)\\mid=1$，意味着$U$左乘任何向量都不会改变其模值，但却具有旋转性质  \n",
    "* $U$的特征空间是正交的  \n",
    "* $U$可以对角化  \n",
    "* $U^H$ 是酉矩阵  \n",
    "* $U$ 可逆，并且$U^{-1}=U^H$  \n",
    "* $U$的列构成标准正交基\n",
    "* $U$的行构成标准正交基  \n",
    "* 酉矩阵的特征值都是模为1的复数，即分布在复平面的单位圆上\n",
    "<img src=\"LinearAlgebraPic/EngMath_UnitaryMatrix_01.png\" />\n",
    "例如：\n",
    "$$U=\n",
    "\\left[\n",
    "\\begin{matrix}\n",
    "\\frac{1+i}{2} & \\frac{1+i}{2} \\\\\n",
    "\\frac{1-i}{2} & \\frac{-1+i}{2} \n",
    "\\end{matrix}\n",
    "\\right]\n",
    "$$\n",
    "可以验证，$U^H=U^{-1}$。并且$U$可逆，$U$的列构成正交基，$U$也构成正交基。$U$的特征值是$0.866+0.5i$和$-0.866+0.5i$，其模值都是1。"
   ]
  },
  {
   "cell_type": "markdown",
   "metadata": {},
   "source": [
    "## 性质\n",
    "### 性质1: 酉矩阵不会改变向量的模值\n",
    "$$\\parallel Ux\\parallel=\\parallel x\\parallel$$\n",
    "说明了左乘酉矩阵，得到的变化是不会进行缩放的。证明：\n",
    "$$\\parallel Ux\\parallel ^2=(Ux)*(Ux)=x*U*Ux=x*Ix=x*x=\\parallel x \\parallel ^2$$"
   ]
  },
  {
   "cell_type": "markdown",
   "metadata": {},
   "source": [
    "### 性质2: 两向量的内积不会因为酉矩阵变换而发生改变\n",
    "$$(Ux)*(Uy)=x*y$$"
   ]
  },
  {
   "cell_type": "markdown",
   "metadata": {},
   "source": [
    "### 性质3: 酉矩阵的特征值的模为1\n",
    "设$Ux=\\lambda x$,两边取模：\n",
    "$$\\parallel\\lambda x\\parallel=\\parallel\\lambda\\parallel \\cdot\\parallel x\\parallel $$\n",
    "所以，$\\parallel\\lambda\\parallel=1$,即特征值$\\lambda$可以表示为：$\\lambda=e^{j\\theta}$"
   ]
  },
  {
   "cell_type": "markdown",
   "metadata": {},
   "source": [
    "### 性质4: 酉矩阵$U$可以对角化\n",
    "$$U=VDV^H$$\n",
    "其中$V$是一酉矩阵"
   ]
  },
  {
   "cell_type": "markdown",
   "metadata": {},
   "source": [
    "### 性质5: 酉矩阵的行列式为1\n",
    "$$\\mid det(U)\\mid=\\mid \\lambda_1 \\cdots\\lambda_n\\mid=\\mid\\lambda_1\\mid\\cdots \\mid\\lambda_n\\mid=1$$"
   ]
  }
 ],
 "metadata": {
  "kernelspec": {
   "display_name": "Python 2",
   "language": "python",
   "name": "python2"
  },
  "language_info": {
   "codemirror_mode": {
    "name": "ipython",
    "version": 2
   },
   "file_extension": ".py",
   "mimetype": "text/x-python",
   "name": "python",
   "nbconvert_exporter": "python",
   "pygments_lexer": "ipython2",
   "version": "2.7.13"
  },
  "toc": {
   "colors": {
    "hover_highlight": "#DAA520",
    "running_highlight": "#FF0000",
    "selected_highlight": "#FFD700"
   },
   "moveMenuLeft": true,
   "nav_menu": {
    "height": "200px",
    "width": "254px"
   },
   "navigate_menu": true,
   "number_sections": true,
   "sideBar": true,
   "threshold": 4,
   "toc_cell": false,
   "toc_section_display": "block",
   "toc_window_display": false
  }
 },
 "nbformat": 4,
 "nbformat_minor": 2
}
