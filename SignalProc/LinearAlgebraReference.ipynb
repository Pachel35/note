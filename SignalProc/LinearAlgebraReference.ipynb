{
 "cells": [
  {
   "cell_type": "markdown",
   "metadata": {},
   "source": [
    "# 线性代数参考手册"
   ]
  },
  {
   "cell_type": "markdown",
   "metadata": {},
   "source": [
    "## 基本符号\n",
    "* $A\\in R^{m\\times n}$   表示一个$m$行$n$列的实数矩阵  \n",
    "  \n",
    "* $x\\in R^n$   表示一个有$n$个元素的向量。约定俗称地，$n$-维向量用一个$n$行1列的矩阵表示，即列向量。如果需要表示行向量，会表示成$x^T$（即用$x$的转置表示）。\n",
    "$$\n",
    "x=\n",
    "\\left[\n",
    "\\begin{matrix}x_1 \\\\ x_2 \\\\ \\vdots \\\\ x_n \\end{matrix}\n",
    "\\right]\n",
    "$$\n",
    "* $a_{ij}$   表示矩阵$A$里面$i$行，$j$列的元素\n",
    "$$\n",
    "A=\n",
    "\\left[\n",
    "\\begin{matrix}\n",
    "& a_{11} & a_{12} & \\cdots & a_{1n} \\\\ \n",
    "& a_{21} & a_{22} & \\cdots & a_{2n} \\\\ \n",
    "& \\vdots & \\vdots & \\ddots & \\vdots \\\\\n",
    "& a_{m1} & a_{m2} & \\cdots & a_{mn} \n",
    "\\end{matrix}\n",
    "\\right]\n",
    "$$\n",
    "* $a_j \\, \\text{或者}\\, A_{:,j}$表示第$j$列\n",
    "$$\n",
    "A=\n",
    "\\left[\n",
    "\\begin{matrix}\n",
    "& \\mid & \\mid & \\, & \\mid \\\\ \n",
    "& a_{1} & a_{2} & \\cdots & a_{n} \\\\ \n",
    "& \\mid & \\mid & \\, & \\mid \n",
    "\\end{matrix}\n",
    "\\right]\n",
    "$$\n",
    "* $a_i^T \\,\\text{或者} \\,A_{i,:}$ 表示第$i$行\n",
    "$$\n",
    "A=\n",
    "\\left[\n",
    "\\begin{matrix}\n",
    "& - & a_1^T & - \\\\ \n",
    "& - & a_1^T & - \\\\ \n",
    "& \\,& \\vdots & \\, \\\\\n",
    "& - & a_1^T & - \n",
    "\\end{matrix}\n",
    "\\right]\n",
    "$$\n",
    "* 注意，上面的$a_i^T$仅表示第$i$行，并不表示$a_i$的转置"
   ]
  },
  {
   "cell_type": "markdown",
   "metadata": {},
   "source": [
    "## 矩阵乘法\n"
   ]
  }
 ],
 "metadata": {
  "kernelspec": {
   "display_name": "Python 2",
   "language": "python",
   "name": "python2"
  },
  "language_info": {
   "codemirror_mode": {
    "name": "ipython",
    "version": 2
   },
   "file_extension": ".py",
   "mimetype": "text/x-python",
   "name": "python",
   "nbconvert_exporter": "python",
   "pygments_lexer": "ipython2",
   "version": "2.7.13"
  },
  "toc": {
   "colors": {
    "hover_highlight": "#DAA520",
    "running_highlight": "#FF0000",
    "selected_highlight": "#FFD700"
   },
   "moveMenuLeft": true,
   "nav_menu": {
    "height": "70px",
    "width": "254px"
   },
   "navigate_menu": true,
   "number_sections": true,
   "sideBar": true,
   "threshold": 4,
   "toc_cell": false,
   "toc_section_display": "block",
   "toc_window_display": false
  }
 },
 "nbformat": 4,
 "nbformat_minor": 2
}
